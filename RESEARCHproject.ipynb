{
  "cells": [
    {
      "cell_type": "markdown",
      "metadata": {
        "id": "uqjDBAqJv-sL"
      },
      "source": [
        "# IMAGE CLASSIFICATION USING CNN (convolutional neural network)"
      ]
    },
    {
      "cell_type": "markdown",
      "metadata": {
        "id": "oPHwKG3nwdtS"
      },
      "source": [
        "classifying images of dataset cifar10 (tensorflow keras dataset)"
      ]
    },
    {
      "cell_type": "markdown",
      "metadata": {
        "id": "hLUJLNotqVae"
      },
      "source": [
        "**IMPORT FILES**"
      ]
    },
    {
      "cell_type": "code",
      "execution_count": null,
      "metadata": {
        "id": "H-M3JWUtD1NY"
      },
      "outputs": [],
      "source": [
        "import tensorflow as tf\n",
        "from tensorflow.keras import datasets, layers, models\n",
        "import matplotlib.pyplot as plt\n",
        "import numpy as np"
      ]
    },
    {
      "cell_type": "markdown",
      "metadata": {
        "id": "c77lw8_xqdZV"
      },
      "source": [
        "**GETTING DATASET**"
      ]
    },
    {
      "cell_type": "code",
      "execution_count": null,
      "metadata": {
        "colab": {
          "base_uri": "https://localhost:8080/"
        },
        "id": "baLvkDzaD5G_",
        "outputId": "9e97ed58-fb60-4607-e225-5bb9735bbfc6"
      },
      "outputs": [
        {
          "output_type": "stream",
          "name": "stdout",
          "text": [
            "Downloading data from https://www.cs.toronto.edu/~kriz/cifar-10-python.tar.gz\n",
            "170498071/170498071 [==============================] - 2s 0us/step\n"
          ]
        }
      ],
      "source": [
        "(X_train, y_train), (X_test, y_test) = datasets.cifar10.load_data()"
      ]
    },
    {
      "cell_type": "markdown",
      "metadata": {
        "id": "hmz6xuVwqkg0"
      },
      "source": [
        "**ANALYSING**"
      ]
    },
    {
      "cell_type": "code",
      "execution_count": null,
      "metadata": {
        "colab": {
          "base_uri": "https://localhost:8080/"
        },
        "id": "L-fOtl_vGB7e",
        "outputId": "cf97fe71-1264-4299-fd9f-50db309c3ca3"
      },
      "outputs": [
        {
          "output_type": "execute_result",
          "data": {
            "text/plain": [
              "(50000, 32, 32, 3)"
            ]
          },
          "metadata": {},
          "execution_count": 3
        }
      ],
      "source": [
        "X_train.shape"
      ]
    },
    {
      "cell_type": "code",
      "execution_count": null,
      "metadata": {
        "colab": {
          "base_uri": "https://localhost:8080/"
        },
        "id": "0HcdsAPTFDO3",
        "outputId": "1830427f-78aa-485d-c8cf-088449d2555a"
      },
      "outputs": [
        {
          "output_type": "execute_result",
          "data": {
            "text/plain": [
              "(10000, 32, 32, 3)"
            ]
          },
          "metadata": {},
          "execution_count": 4
        }
      ],
      "source": [
        "X_test.shape"
      ]
    },
    {
      "cell_type": "code",
      "execution_count": null,
      "metadata": {
        "colab": {
          "base_uri": "https://localhost:8080/"
        },
        "id": "DRFxS-yzIRvT",
        "outputId": "252ba755-a27d-4235-aea2-ab4b14da7f43"
      },
      "outputs": [
        {
          "output_type": "execute_result",
          "data": {
            "text/plain": [
              "array([[6],\n",
              "       [9],\n",
              "       [9],\n",
              "       [4],\n",
              "       [1]], dtype=uint8)"
            ]
          },
          "metadata": {},
          "execution_count": 5
        }
      ],
      "source": [
        "y_train[:5]"
      ]
    },
    {
      "cell_type": "code",
      "execution_count": null,
      "metadata": {
        "colab": {
          "base_uri": "https://localhost:8080/"
        },
        "id": "GbMGHeaKiMNi",
        "outputId": "1a0f7811-272d-4174-c40c-4c59e9293b9c"
      },
      "outputs": [
        {
          "output_type": "execute_result",
          "data": {
            "text/plain": [
              "array([6, 9, 9, 4, 1], dtype=uint8)"
            ]
          },
          "metadata": {},
          "execution_count": 6
        }
      ],
      "source": [
        "y_train = y_train.reshape(-1,)\n",
        "y_train[:5]"
      ]
    },
    {
      "cell_type": "code",
      "execution_count": null,
      "metadata": {
        "colab": {
          "base_uri": "https://localhost:8080/"
        },
        "id": "gtIyQw43IVaP",
        "outputId": "b1c2c3a7-731e-428c-c355-84dfdf75e54d"
      },
      "outputs": [
        {
          "output_type": "execute_result",
          "data": {
            "text/plain": [
              "(10000, 1)"
            ]
          },
          "metadata": {},
          "execution_count": 7
        }
      ],
      "source": [
        "y_test.shape"
      ]
    },
    {
      "cell_type": "markdown",
      "metadata": {
        "id": "3dKV3sfLqs3_"
      },
      "source": [
        "**FOR GETTING NAME**"
      ]
    },
    {
      "cell_type": "code",
      "execution_count": null,
      "metadata": {
        "id": "KI29SKHiHo3m"
      },
      "outputs": [],
      "source": [
        "classes = [\"airplane\", \"automobile\", \"bird\", \"cat\", \"deer\", \"dog\", \"frog\", \"horse\", \"ship\", \"truck\"]       #types of images in the dataset"
      ]
    },
    {
      "cell_type": "markdown",
      "metadata": {
        "id": "RSj9jygXxLwU"
      },
      "source": [
        "Plotting images"
      ]
    },
    {
      "cell_type": "code",
      "execution_count": null,
      "metadata": {
        "id": "QvEmnnWRFT3L"
      },
      "outputs": [],
      "source": [
        "def plotSample( X, y, index) :\n",
        "  plt.figure(figsize = (15, 2))\n",
        "  plt.imshow(X[index])\n",
        "  plt.xlabel(classes[y[index]])"
      ]
    },
    {
      "cell_type": "code",
      "execution_count": null,
      "metadata": {
        "colab": {
          "base_uri": "https://localhost:8080/",
          "height": 237
        },
        "id": "zj92RFEHFd9J",
        "outputId": "d3371624-f647-42f9-aafa-da72c8f48850"
      },
      "outputs": [
        {
          "output_type": "display_data",
          "data": {
            "text/plain": [
              "<Figure size 1500x200 with 1 Axes>"
            ],
            "image/png": "[encoded data removed]"
          },
          "metadata": {}
        }
      ],
      "source": [
        "plotSample(X_train, y_train, 0)"
      ]
    },
    {
      "cell_type": "code",
      "execution_count": null,
      "metadata": {
        "colab": {
          "base_uri": "https://localhost:8080/",
          "height": 237
        },
        "id": "CmnefKXUjet_",
        "outputId": "b33f4efc-b896-45ca-906c-1acb0513baca"
      },
      "outputs": [
        {
          "output_type": "display_data",
          "data": {
            "text/plain": [
              "<Figure size 1500x200 with 1 Axes>"
            ],
            "image/png": "[encoded data removed]"
          },
          "metadata": {}
        }
      ],
      "source": [
        "plotSample(X_train, y_train, 1)"
      ]
    },
    {
      "cell_type": "code",
      "execution_count": null,
      "metadata": {
        "colab": {
          "base_uri": "https://localhost:8080/",
          "height": 237
        },
        "id": "Ux3xjxq8pgGw",
        "outputId": "101e1c1b-20f8-4d11-c3e6-ab2172f01db6"
      },
      "outputs": [
        {
          "output_type": "display_data",
          "data": {
            "text/plain": [
              "<Figure size 1500x200 with 1 Axes>"
            ],
            "image/png": "[encoded data removed]"
          },
          "metadata": {}
        }
      ],
      "source": [
        "plotSample(X_train, y_train, 3)\n"
      ]
    },
    {
      "cell_type": "code",
      "execution_count": null,
      "metadata": {
        "colab": {
          "base_uri": "https://localhost:8080/",
          "height": 237
        },
        "id": "8fcbjB84qMDv",
        "outputId": "23749143-266f-4fdf-8bc1-d745fb81c8a8"
      },
      "outputs": [
        {
          "output_type": "display_data",
          "data": {
            "text/plain": [
              "<Figure size 1500x200 with 1 Axes>"
            ],
            "image/png": "[encoded data removed]"
          },
          "metadata": {}
        }
      ],
      "source": [
        "plotSample(X_train, y_train, 6)"
      ]
    },
    {
      "cell_type": "markdown",
      "metadata": {
        "id": "_FN0kJN3yeEW"
      },
      "source": [
        "**NORMALIZING**"
      ]
    },
    {
      "cell_type": "code",
      "execution_count": null,
      "metadata": {
        "id": "Yo3N6KpqqObg"
      },
      "outputs": [],
      "source": [
        "X_train = X_train/255\n",
        "X_test = X_test/255"
      ]
    },
    {
      "cell_type": "markdown",
      "metadata": {
        "id": "4tkyKuKNyz7U"
      },
      "source": [
        "**ARTIFICIAL NEURAL NETWORK** for image classification"
      ]
    },
    {
      "cell_type": "code",
      "execution_count": 15,
      "metadata": {
        "colab": {
          "base_uri": "https://localhost:8080/"
        },
        "id": "l6htDLEytIaK",
        "outputId": "17cda27f-a7fb-42b6-d49a-f9945e0ad086"
      },
      "outputs": [
        {
          "output_type": "stream",
          "name": "stdout",
          "text": [
            "Epoch 1/5\n",
            "1563/1563 [==============================] - 142s 91ms/step - loss: 1.8131 - accuracy: 0.3549\n",
            "Epoch 2/5\n",
            "1563/1563 [==============================] - 140s 90ms/step - loss: 1.6238 - accuracy: 0.4292\n",
            "Epoch 3/5\n",
            "1563/1563 [==============================] - 137s 88ms/step - loss: 1.5432 - accuracy: 0.4574\n",
            "Epoch 4/5\n",
            "1563/1563 [==============================] - 143s 91ms/step - loss: 1.4847 - accuracy: 0.4780\n",
            "Epoch 5/5\n",
            "1563/1563 [==============================] - 139s 89ms/step - loss: 1.4323 - accuracy: 0.4972\n"
          ]
        },
        {
          "output_type": "execute_result",
          "data": {
            "text/plain": [
              "<keras.callbacks.History at 0x7fe52c7767c0>"
            ]
          },
          "metadata": {},
          "execution_count": 15
        }
      ],
      "source": [
        "ann = models.Sequential([\n",
        "    layers.Flatten(input_shape = (32, 32, 3)),\n",
        "    layers.Dense(3000, activation = 'relu'),\n",
        "    layers.Dense(1000, activation = 'relu'),\n",
        "    layers.Dense(10, activation = 'sigmoid'),                                           #10 categories to be defined\n",
        "])\n",
        "\n",
        "ann.compile(optimizer = 'SGD',\n",
        "    loss= 'sparse_categorical_crossentropy',\n",
        "    metrics = ['accuracy'])\n",
        "\n",
        "ann.fit(X_train, y_train, epochs = 5)"
      ]
    },
    {
      "cell_type": "markdown",
      "metadata": {
        "id": "hWQ4OwC1xjeb"
      },
      "source": [
        "We can see accuracy here is around 49% ^"
      ]
    },
    {
      "cell_type": "markdown",
      "metadata": {
        "id": "rhdHwNV5x0F4"
      },
      "source": [
        "**Classification Report for ANN** (artificial neural network)"
      ]
    },
    {
      "cell_type": "code",
      "execution_count": null,
      "metadata": {
        "colab": {
          "base_uri": "https://localhost:8080/"
        },
        "id": "V4g2VwVCIE43",
        "outputId": "f416f561-0093-4605-940e-2c46be8eee06"
      },
      "outputs": [
        {
          "name": "stdout",
          "output_type": "stream",
          "text": [
            "313/313 [==============================] - 15s 48ms/step\n",
            "Classification Report: \n",
            "               precision    recall  f1-score   support\n",
            "\n",
            "           0       0.44      0.67      0.53      1000\n",
            "           1       0.64      0.54      0.58      1000\n",
            "           2       0.38      0.26      0.31      1000\n",
            "           3       0.38      0.25      0.30      1000\n",
            "           4       0.35      0.53      0.42      1000\n",
            "           5       0.58      0.20      0.29      1000\n",
            "           6       0.45      0.61      0.52      1000\n",
            "           7       0.48      0.63      0.54      1000\n",
            "           8       0.54      0.64      0.59      1000\n",
            "           9       0.66      0.39      0.49      1000\n",
            "\n",
            "    accuracy                           0.47     10000\n",
            "   macro avg       0.49      0.47      0.46     10000\n",
            "weighted avg       0.49      0.47      0.46     10000\n",
            "\n"
          ]
        }
      ],
      "source": [
        "from sklearn.metrics import confusion_matrix , classification_report\n",
        "import numpy as np\n",
        "y_pred = ann.predict(X_test)\n",
        "y_pred_classes = [np.argmax(element) for element in y_pred]\n",
        "\n",
        "print(\"Classification Report: \\n\", classification_report(y_test, y_pred_classes))"
      ]
    },
    {
      "cell_type": "markdown",
      "metadata": {
        "id": "Hye1Rpt0L2FN"
      },
      "source": [
        "**CNN** ( convolutional neural networks to train images )"
      ]
    },
    {
      "cell_type": "code",
      "execution_count": 16,
      "metadata": {
        "id": "onMcpXkrL0uX"
      },
      "outputs": [],
      "source": [
        "cnn = models.Sequential([\n",
        "    layers.Conv2D(filters=32, kernel_size=(3, 3), activation='relu', input_shape=(32, 32, 3)),\n",
        "    layers.MaxPooling2D((2, 2)),\n",
        "    \n",
        "    layers.Conv2D(filters=64, kernel_size=(3, 3), activation='relu'),\n",
        "    layers.MaxPooling2D((2, 2)),\n",
        "    \n",
        "    layers.Flatten(),\n",
        "    layers.Dense(64, activation='relu'),\n",
        "    layers.Dense(10, activation='softmax')\n",
        "])"
      ]
    },
    {
      "cell_type": "code",
      "execution_count": null,
      "metadata": {
        "id": "PO3bvwTFvNSK"
      },
      "outputs": [],
      "source": [
        "cnn.compile(optimizer='adam',\n",
        "              loss='sparse_categorical_crossentropy',\n",
        "              metrics=['accuracy'])"
      ]
    },
    {
      "cell_type": "code",
      "execution_count": null,
      "metadata": {
        "colab": {
          "base_uri": "https://localhost:8080/"
        },
        "id": "UYVWAY9rvN_x",
        "outputId": "7f305d6b-8224-4d7f-81ee-b8ce9b916eed"
      },
      "outputs": [
        {
          "name": "stdout",
          "output_type": "stream",
          "text": [
            "Epoch 1/10\n",
            "1563/1563 [==============================] - 70s 44ms/step - loss: 1.4718 - accuracy: 0.4735\n",
            "Epoch 2/10\n",
            "1563/1563 [==============================] - 67s 43ms/step - loss: 1.1249 - accuracy: 0.6060\n",
            "Epoch 3/10\n",
            "1563/1563 [==============================] - 89s 57ms/step - loss: 0.9957 - accuracy: 0.6522\n",
            "Epoch 4/10\n",
            "1563/1563 [==============================] - 73s 47ms/step - loss: 0.9145 - accuracy: 0.6823\n",
            "Epoch 5/10\n",
            "1563/1563 [==============================] - 79s 51ms/step - loss: 0.8514 - accuracy: 0.7043\n",
            "Epoch 6/10\n",
            "1563/1563 [==============================] - 84s 54ms/step - loss: 0.7962 - accuracy: 0.7241\n",
            "Epoch 7/10\n",
            "1563/1563 [==============================] - 72s 46ms/step - loss: 0.7456 - accuracy: 0.7407\n",
            "Epoch 8/10\n",
            "1563/1563 [==============================] - 73s 47ms/step - loss: 0.7043 - accuracy: 0.7517\n",
            "Epoch 9/10\n",
            "1563/1563 [==============================] - 77s 49ms/step - loss: 0.6678 - accuracy: 0.7669\n",
            "Epoch 10/10\n",
            "1563/1563 [==============================] - 75s 48ms/step - loss: 0.6296 - accuracy: 0.7786\n"
          ]
        },
        {
          "data": {
            "text/plain": [
              "<keras.callbacks.History at 0x7fb35468e730>"
            ]
          },
          "execution_count": 35,
          "metadata": {},
          "output_type": "execute_result"
        }
      ],
      "source": [
        "cnn.fit(X_train, y_train, epochs=10)"
      ]
    },
    {
      "cell_type": "markdown",
      "metadata": {
        "id": "jE0qK3oOzENy"
      },
      "source": [
        "CNN gives better accuracy of 70% and above as compared to ANN ^"
      ]
    },
    {
      "cell_type": "markdown",
      "metadata": {
        "id": "U-pxiu7Hzw9l"
      },
      "source": [
        "TESTING CNN ON TEST SET"
      ]
    },
    {
      "cell_type": "code",
      "execution_count": null,
      "metadata": {
        "colab": {
          "base_uri": "https://localhost:8080/"
        },
        "id": "WCzeHLxpvSP4",
        "outputId": "ba4bf63f-d4ed-4667-e619-0ff886804376"
      },
      "outputs": [
        {
          "name": "stdout",
          "output_type": "stream",
          "text": [
            "313/313 [==============================] - 4s 12ms/step - loss: 0.9055 - accuracy: 0.6983\n"
          ]
        },
        {
          "data": {
            "text/plain": [
              "[0.9054834842681885, 0.6983000040054321]"
            ]
          },
          "execution_count": 38,
          "metadata": {},
          "output_type": "execute_result"
        }
      ],
      "source": [
        "cnn.evaluate(X_test, y_test)"
      ]
    },
    {
      "cell_type": "markdown",
      "metadata": {
        "id": "DVrk7XY11CAA"
      },
      "source": [
        "**PREDICTING TEST CASES**"
      ]
    },
    {
      "cell_type": "code",
      "execution_count": null,
      "metadata": {
        "id": "Cxpv44DX0oX2"
      },
      "outputs": [],
      "source": [
        "y_test = y_test.reshape(-1,)"
      ]
    },
    {
      "cell_type": "code",
      "execution_count": null,
      "metadata": {
        "colab": {
          "base_uri": "https://localhost:8080/",
          "height": 173
        },
        "id": "34LrIUmXz5c-",
        "outputId": "c21e21b2-5492-4777-ea12-c2bbeb2703eb"
      },
      "outputs": [
        {
          "data": {
            "image/png": "[encoded data removed]",
            "text/plain": [
              "<Figure size 1080x144 with 1 Axes>"
            ]
          },
          "metadata": {},
          "output_type": "display_data"
        }
      ],
      "source": [
        "plotSample(X_test, y_test, 1)"
      ]
    },
    {
      "cell_type": "code",
      "execution_count": null,
      "metadata": {
        "colab": {
          "base_uri": "https://localhost:8080/"
        },
        "id": "VYxUeq-e0bxR",
        "outputId": "d1b4439a-bc21-4ddc-9209-9fd819255211"
      },
      "outputs": [
        {
          "name": "stdout",
          "output_type": "stream",
          "text": [
            "313/313 [==============================] - 4s 13ms/step\n"
          ]
        },
        {
          "data": {
            "text/plain": [
              "array([[1.54924458e-02, 1.11034409e-04, 4.78473445e-03, 5.73645473e-01,\n",
              "        1.34098977e-01, 1.21116638e-01, 1.03704013e-01, 1.02702377e-03,\n",
              "        4.30538654e-02, 2.96572316e-03],\n",
              "       [2.82069668e-02, 2.96244860e-01, 5.99432587e-06, 3.69601082e-07,\n",
              "        2.90813844e-08, 1.02203144e-08, 3.09669673e-07, 3.48838025e-09,\n",
              "        6.70888841e-01, 4.65260539e-03],\n",
              "       [2.41459385e-01, 2.71795541e-01, 9.92067042e-04, 3.54306540e-03,\n",
              "        8.98484723e-04, 2.66734569e-04, 1.04542858e-04, 3.03665322e-04,\n",
              "        4.35300648e-01, 4.53358591e-02],\n",
              "       [8.60234320e-01, 2.38616709e-02, 1.77794788e-03, 4.78198082e-04,\n",
              "        3.72928777e-03, 2.07344128e-05, 6.36707875e-04, 5.56732084e-05,\n",
              "        1.08616605e-01, 5.88859897e-04],\n",
              "       [3.08953749e-05, 8.42628378e-06, 8.96460749e-03, 8.50738212e-03,\n",
              "        5.60592890e-01, 2.45161122e-04, 4.19893295e-01, 3.65046230e-06,\n",
              "        1.75034150e-03, 3.34385845e-06]], dtype=float32)"
            ]
          },
          "execution_count": 42,
          "metadata": {},
          "output_type": "execute_result"
        }
      ],
      "source": [
        "y_pred = cnn.predict(X_test)\n",
        "y_pred[:5]"
      ]
    },
    {
      "cell_type": "markdown",
      "metadata": {
        "id": "YWSjw9z6FZlC"
      },
      "source": [
        "**COMPARING THE ACCURACY OF OUTPUT**"
      ]
    },
    {
      "cell_type": "code",
      "execution_count": null,
      "metadata": {
        "colab": {
          "base_uri": "https://localhost:8080/"
        },
        "id": "bom0s8Ep1Xqi",
        "outputId": "3c6686ea-aa6f-42b8-f7af-1ef64352f56d"
      },
      "outputs": [
        {
          "data": {
            "text/plain": [
              "[3, 8, 8, 0, 4]"
            ]
          },
          "execution_count": 43,
          "metadata": {},
          "output_type": "execute_result"
        }
      ],
      "source": [
        "y_classes  = [np.argmax(element) for element in y_pred]\n",
        "y_classes[:5]"
      ]
    },
    {
      "cell_type": "code",
      "execution_count": null,
      "metadata": {
        "colab": {
          "base_uri": "https://localhost:8080/"
        },
        "id": "45v6Pz0BFN3p",
        "outputId": "4e78cba6-6fea-427d-d08a-346af5b0c250"
      },
      "outputs": [
        {
          "data": {
            "text/plain": [
              "array([3, 8, 8, 0, 6], dtype=uint8)"
            ]
          },
          "execution_count": 44,
          "metadata": {},
          "output_type": "execute_result"
        }
      ],
      "source": [
        "y_test[:5]"
      ]
    },
    {
      "cell_type": "markdown",
      "metadata": {
        "id": "LYg9VLWEFmHX"
      },
      "source": [
        "We can see that first 4 predictions were correct in 5 ^"
      ]
    },
    {
      "cell_type": "markdown",
      "metadata": {
        "id": "bNPoHilRG4WQ"
      },
      "source": [
        "**Wrong and Correct predictions**"
      ]
    },
    {
      "cell_type": "markdown",
      "metadata": {
        "id": "6FGLXrcoHFsS"
      },
      "source": [
        "CORRECT:"
      ]
    },
    {
      "cell_type": "code",
      "execution_count": null,
      "metadata": {
        "colab": {
          "base_uri": "https://localhost:8080/",
          "height": 173
        },
        "id": "_gSNCEDIHH21",
        "outputId": "8c9fb07f-97f6-4db3-ef3a-2341870a4258"
      },
      "outputs": [
        {
          "data": {
            "image/png": "[encoded data removed]",
            "text/plain": [
              "<Figure size 1080x144 with 1 Axes>"
            ]
          },
          "metadata": {},
          "output_type": "display_data"
        }
      ],
      "source": [
        "plotSample( X_test, y_test, 3)"
      ]
    },
    {
      "cell_type": "code",
      "execution_count": null,
      "metadata": {
        "colab": {
          "base_uri": "https://localhost:8080/",
          "height": 36
        },
        "id": "IaK7A55_HNXX",
        "outputId": "1283fc2d-94fd-4447-8066-ffbdb8338819"
      },
      "outputs": [
        {
          "data": {
            "application/vnd.google.colaboratory.intrinsic+json": {
              "type": "string"
            },
            "text/plain": [
              "'airplane'"
            ]
          },
          "execution_count": 58,
          "metadata": {},
          "output_type": "execute_result"
        }
      ],
      "source": [
        "classes[y_classes[3]]"
      ]
    },
    {
      "cell_type": "markdown",
      "metadata": {
        "id": "S9uCr_xhG_cV"
      },
      "source": [
        "WRONG:"
      ]
    },
    {
      "cell_type": "code",
      "execution_count": null,
      "metadata": {
        "colab": {
          "base_uri": "https://localhost:8080/",
          "height": 173
        },
        "id": "LpRMmiipFW8J",
        "outputId": "8f54ef4f-f5bd-494c-9aac-49a5d08c550f"
      },
      "outputs": [
        {
          "data": {
            "image/png": "[encoded data removed]",
            "text/plain": [
              "<Figure size 1080x144 with 1 Axes>"
            ]
          },
          "metadata": {},
          "output_type": "display_data"
        }
      ],
      "source": [
        "plotSample( X_test, y_test, 4)"
      ]
    },
    {
      "cell_type": "code",
      "execution_count": null,
      "metadata": {
        "colab": {
          "base_uri": "https://localhost:8080/",
          "height": 36
        },
        "id": "AlPjoNeGGcDx",
        "outputId": "006d6c78-1f5f-4665-b6e2-9ae19e82ef13"
      },
      "outputs": [
        {
          "data": {
            "application/vnd.google.colaboratory.intrinsic+json": {
              "type": "string"
            },
            "text/plain": [
              "'deer'"
            ]
          },
          "execution_count": 56,
          "metadata": {},
          "output_type": "execute_result"
        }
      ],
      "source": [
        "classes[y_classes[4]]"
      ]
    }
  ],
  "metadata": {
    "colab": {
      "provenance": []
    },
    "kernelspec": {
      "display_name": "Python 3",
      "name": "python3"
    },
    "language_info": {
      "name": "python"
    }
  },
  "nbformat": 4,
  "nbformat_minor": 0
}